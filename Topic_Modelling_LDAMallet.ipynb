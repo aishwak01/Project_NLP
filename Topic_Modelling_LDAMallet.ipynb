{
  "nbformat": 4,
  "nbformat_minor": 0,
  "metadata": {
    "colab": {
      "name": "Topic_Modelling_LDAMallet.ipynb",
      "provenance": [],
      "collapsed_sections": []
    },
    "kernelspec": {
      "name": "python3",
      "display_name": "Python 3"
    },
    "language_info": {
      "name": "python"
    }
  },
  "cells": [
    {
      "cell_type": "markdown",
      "metadata": {
        "id": "SgYSs6RjAtgB"
      },
      "source": [
        "**Mount the google drive on the colab session**"
      ]
    },
    {
      "cell_type": "code",
      "metadata": {
        "colab": {
          "base_uri": "https://localhost:8080/"
        },
        "id": "v7ZjS1yk8HI-",
        "outputId": "37fed60a-01ff-4ac0-f9da-cc294add2d20"
      },
      "source": [
        "#Mounting gdrive to gain access to the dataset\n",
        "from google.colab import drive\n",
        "drive.mount(\"/content/gdrive\")"
      ],
      "execution_count": null,
      "outputs": [
        {
          "output_type": "stream",
          "name": "stdout",
          "text": [
            "Drive already mounted at /content/gdrive; to attempt to forcibly remount, call drive.mount(\"/content/gdrive\", force_remount=True).\n"
          ]
        }
      ]
    },
    {
      "cell_type": "markdown",
      "metadata": {
        "id": "BjMTE-HhA2MN"
      },
      "source": [
        "**Importing necessary libraries**"
      ]
    },
    {
      "cell_type": "code",
      "metadata": {
        "colab": {
          "base_uri": "https://localhost:8080/"
        },
        "id": "5B_BeKLb8mfe",
        "outputId": "12710657-e597-4e01-d995-e6e28f1c81f8"
      },
      "source": [
        "#Importing necessary libraries\n",
        "import gensim\n",
        "from gensim.utils import simple_preprocess\n",
        "from gensim.parsing.preprocessing import STOPWORDS\n",
        "from gensim import corpora\n",
        "from gensim.models import CoherenceModel\n",
        "from nltk.stem import WordNetLemmatizer, SnowballStemmer\n",
        "import numpy as np\n",
        "import nltk\n",
        "nltk.download('wordnet')\n",
        "import pandas as pd\n",
        "import json\n",
        "import matplotlib.pyplot as plt\n",
        "%matplotlib inline  "
      ],
      "execution_count": null,
      "outputs": [
        {
          "output_type": "stream",
          "name": "stdout",
          "text": [
            "[nltk_data] Downloading package wordnet to /root/nltk_data...\n",
            "[nltk_data]   Package wordnet is already up-to-date!\n"
          ]
        }
      ]
    },
    {
      "cell_type": "markdown",
      "metadata": {
        "id": "TMYQ7FAvAagO"
      },
      "source": [
        "**Importing and cleaning data off the unwanted data inputs**"
      ]
    },
    {
      "cell_type": "code",
      "metadata": {
        "colab": {
          "base_uri": "https://localhost:8080/",
          "height": 417
        },
        "id": "pE8IkdP08yDj",
        "outputId": "56d15f20-80e4-4e72-8f69-34be6520c681"
      },
      "source": [
        "#importing data from google drive\n",
        "data = pd.read_json('/content/gdrive/My Drive/cran_d.json')\n",
        "data.drop(['author', 'bibliography','title'], axis = 1)"
      ],
      "execution_count": null,
      "outputs": [
        {
          "output_type": "execute_result",
          "data": {
            "text/html": [
              "<div>\n",
              "<style scoped>\n",
              "    .dataframe tbody tr th:only-of-type {\n",
              "        vertical-align: middle;\n",
              "    }\n",
              "\n",
              "    .dataframe tbody tr th {\n",
              "        vertical-align: top;\n",
              "    }\n",
              "\n",
              "    .dataframe thead th {\n",
              "        text-align: right;\n",
              "    }\n",
              "</style>\n",
              "<table border=\"1\" class=\"dataframe\">\n",
              "  <thead>\n",
              "    <tr style=\"text-align: right;\">\n",
              "      <th></th>\n",
              "      <th>id</th>\n",
              "      <th>body</th>\n",
              "    </tr>\n",
              "  </thead>\n",
              "  <tbody>\n",
              "    <tr>\n",
              "      <th>0</th>\n",
              "      <td>1</td>\n",
              "      <td>experimental investigation of the aerodynamics...</td>\n",
              "    </tr>\n",
              "    <tr>\n",
              "      <th>1</th>\n",
              "      <td>2</td>\n",
              "      <td>simple shear flow past a flat plate in an inco...</td>\n",
              "    </tr>\n",
              "    <tr>\n",
              "      <th>2</th>\n",
              "      <td>3</td>\n",
              "      <td>the boundary layer in simple shear flow past a...</td>\n",
              "    </tr>\n",
              "    <tr>\n",
              "      <th>3</th>\n",
              "      <td>4</td>\n",
              "      <td>approximate solutions of the incompressible la...</td>\n",
              "    </tr>\n",
              "    <tr>\n",
              "      <th>4</th>\n",
              "      <td>5</td>\n",
              "      <td>one-dimensional transient heat conduction into...</td>\n",
              "    </tr>\n",
              "    <tr>\n",
              "      <th>...</th>\n",
              "      <td>...</td>\n",
              "      <td>...</td>\n",
              "    </tr>\n",
              "    <tr>\n",
              "      <th>1395</th>\n",
              "      <td>1396</td>\n",
              "      <td>shear buckling of clamped and simply-supported...</td>\n",
              "    </tr>\n",
              "    <tr>\n",
              "      <th>1396</th>\n",
              "      <td>1397</td>\n",
              "      <td>critical shear stress of an infinitely long si...</td>\n",
              "    </tr>\n",
              "    <tr>\n",
              "      <th>1397</th>\n",
              "      <td>1398</td>\n",
              "      <td>stability of rectangular plates under shear an...</td>\n",
              "    </tr>\n",
              "    <tr>\n",
              "      <th>1398</th>\n",
              "      <td>1399</td>\n",
              "      <td>buckling of transverse stiffened plates under ...</td>\n",
              "    </tr>\n",
              "    <tr>\n",
              "      <th>1399</th>\n",
              "      <td>1400</td>\n",
              "      <td>the buckling shear stress of simply-supported ...</td>\n",
              "    </tr>\n",
              "  </tbody>\n",
              "</table>\n",
              "<p>1400 rows × 2 columns</p>\n",
              "</div>"
            ],
            "text/plain": [
              "        id                                               body\n",
              "0        1  experimental investigation of the aerodynamics...\n",
              "1        2  simple shear flow past a flat plate in an inco...\n",
              "2        3  the boundary layer in simple shear flow past a...\n",
              "3        4  approximate solutions of the incompressible la...\n",
              "4        5  one-dimensional transient heat conduction into...\n",
              "...    ...                                                ...\n",
              "1395  1396  shear buckling of clamped and simply-supported...\n",
              "1396  1397  critical shear stress of an infinitely long si...\n",
              "1397  1398  stability of rectangular plates under shear an...\n",
              "1398  1399  buckling of transverse stiffened plates under ...\n",
              "1399  1400  the buckling shear stress of simply-supported ...\n",
              "\n",
              "[1400 rows x 2 columns]"
            ]
          },
          "metadata": {},
          "execution_count": 3
        }
      ]
    },
    {
      "cell_type": "markdown",
      "metadata": {
        "id": "Wqsp9czcAik7"
      },
      "source": [
        "**Preprocessing the data**"
      ]
    },
    {
      "cell_type": "code",
      "metadata": {
        "id": "9onXxI8U83_A"
      },
      "source": [
        "#Data Preprocessing (stemming, Lemmeatizing and Tokenizing)\n",
        "stemmer = SnowballStemmer(language='english')\n",
        "def lemmatize_stemming(text):\n",
        "    return stemmer.stem(WordNetLemmatizer().lemmatize(text, pos='v'))\n",
        "def preprocess(text):\n",
        "    result = []\n",
        "    for token in gensim.utils.simple_preprocess(text):\n",
        "        if token not in gensim.parsing.preprocessing.STOPWORDS and len(token) > 3:\n",
        "            result.append(lemmatize_stemming(token))\n",
        "    return result"
      ],
      "execution_count": null,
      "outputs": []
    },
    {
      "cell_type": "code",
      "metadata": {
        "colab": {
          "base_uri": "https://localhost:8080/"
        },
        "id": "5om7HZjt86dC",
        "outputId": "12307f92-3088-423a-ffff-e17a2e176583"
      },
      "source": [
        "processed_data = data['body'].map(preprocess)\n",
        "processed_data"
      ],
      "execution_count": null,
      "outputs": [
        {
          "output_type": "execute_result",
          "data": {
            "text/plain": [
              "0       [experiment, investig, aerodynam, wing, slipst...\n",
              "1       [simpl, shear, flow, past, flat, plate, incomp...\n",
              "2       [boundari, layer, simpl, shear, flow, past, fl...\n",
              "3       [approxim, solut, incompress, laminar, boundar...\n",
              "4       [dimension, transient, heat, conduct, doubl, l...\n",
              "                              ...                        \n",
              "1395    [shear, buckl, clamp, simpli, support, infinit...\n",
              "1396    [critic, shear, stress, infinit, long, simpli,...\n",
              "1397    [stabil, rectangular, plat, shear, bend, forc,...\n",
              "1398    [buckl, transvers, stiffen, plat, shear, paper...\n",
              "1399    [buckl, shear, stress, simpli, support, infini...\n",
              "Name: body, Length: 1400, dtype: object"
            ]
          },
          "metadata": {},
          "execution_count": 5
        }
      ]
    },
    {
      "cell_type": "markdown",
      "metadata": {
        "id": "nY6UdrtiASg4"
      },
      "source": [
        "**Dictionary and Corpus Creation **"
      ]
    },
    {
      "cell_type": "code",
      "metadata": {
        "id": "tYCyYj1U8_kM"
      },
      "source": [
        "#Creating dictionary and the word corpus\n",
        "dictionary = corpora.Dictionary(processed_data)\n",
        "corpus = [dictionary.doc2bow(text) for text in processed_data]"
      ],
      "execution_count": null,
      "outputs": []
    },
    {
      "cell_type": "markdown",
      "metadata": {
        "id": "jk0CoMk8ALeB"
      },
      "source": [
        "**Setting up the environment for LDAMallet execution**"
      ]
    },
    {
      "cell_type": "code",
      "metadata": {
        "colab": {
          "base_uri": "https://localhost:8080/"
        },
        "id": "W60E6SubBbI_",
        "outputId": "20b47d73-f668-47a2-8359-30b026b20fbc"
      },
      "source": [
        "#environment setup for executing the Mallet LDA\n",
        "import os       \n",
        "def install_java():\n",
        "  !apt-get install -y openjdk-8-jdk-headless -qq > /dev/null      \n",
        "  os.environ[\"JAVA_HOME\"] = \"/usr/lib/jvm/java-8-openjdk-amd64\"    \n",
        "  !java -version       #check java version\n",
        "install_java()"
      ],
      "execution_count": null,
      "outputs": [
        {
          "output_type": "stream",
          "name": "stdout",
          "text": [
            "openjdk version \"11.0.11\" 2021-04-20\n",
            "OpenJDK Runtime Environment (build 11.0.11+9-Ubuntu-0ubuntu2.18.04)\n",
            "OpenJDK 64-Bit Server VM (build 11.0.11+9-Ubuntu-0ubuntu2.18.04, mixed mode, sharing)\n"
          ]
        }
      ]
    },
    {
      "cell_type": "code",
      "metadata": {
        "id": "UFSV9aOHBcDG"
      },
      "source": [
        "!wget http://mallet.cs.umass.edu/dist/mallet-2.0.8.zip\n",
        "!unzip mallet-2.0.8.zip"
      ],
      "execution_count": null,
      "outputs": []
    },
    {
      "cell_type": "code",
      "metadata": {
        "id": "wrPBZ-n4BqBl"
      },
      "source": [
        "os.environ['MALLET_HOME'] = '/content/mallet-2.0.8'\n",
        "mallet_path = '/content/mallet-2.0.8/bin/mallet'"
      ],
      "execution_count": null,
      "outputs": []
    },
    {
      "cell_type": "markdown",
      "metadata": {
        "id": "rJIJkjFq-87Z"
      },
      "source": [
        "**Finding the optimal number of topics**"
      ]
    },
    {
      "cell_type": "code",
      "metadata": {
        "id": "IdsSIGbZ9tso"
      },
      "source": [
        "def coherence_values(dictionary, corpus, texts, limit, start=2, step=3):\n",
        "    \n",
        "    coherence_values = []\n",
        "    model_list = []\n",
        "    for num_topics in range(start, limit, step):\n",
        "        model = gensim.models.wrappers.LdaMallet(mallet_path, corpus=corpus, num_topics=num_topics, id2word=dictionary)\n",
        "        model_list.append(model)\n",
        "        coherencemodel = CoherenceModel(model=model, texts=texts, dictionary=dictionary, coherence='c_v')\n",
        "        coherence_values.append(coherencemodel.get_coherence())\n",
        "\n",
        "    return model_list, coherence_values"
      ],
      "execution_count": null,
      "outputs": []
    },
    {
      "cell_type": "code",
      "metadata": {
        "id": "0PQNLwIxBSLw"
      },
      "source": [
        "model_list, coherence_values = coherence_values(dictionary=dictionary, corpus=corpus, texts=processed_data, start=2, limit=22, step=2)"
      ],
      "execution_count": null,
      "outputs": []
    },
    {
      "cell_type": "code",
      "metadata": {
        "colab": {
          "base_uri": "https://localhost:8080/",
          "height": 279
        },
        "id": "scHKDPpYBWSd",
        "outputId": "9cd64d23-9275-4d97-b006-168a00dc3e60"
      },
      "source": [
        "limit=22; start=2; step=2;\n",
        "x = range(start, limit, step)\n",
        "plt.plot(x, coherence_values)\n",
        "plt.xlabel(\"Num Topics\")\n",
        "plt.ylabel(\"Coherence score\")\n",
        "plt.legend((\"coherence_values\"), loc='best')\n",
        "plt.show()"
      ],
      "execution_count": null,
      "outputs": [
        {
          "output_type": "display_data",
          "data": {
            "image/png": "[encoded data removed]",
            "text/plain": [
              "<Figure size 432x288 with 1 Axes>"
            ]
          },
          "metadata": {
            "needs_background": "light"
          }
        }
      ]
    },
    {
      "cell_type": "code",
      "metadata": {
        "colab": {
          "base_uri": "https://localhost:8080/"
        },
        "id": "ZNNicAIwa5oT",
        "outputId": "c31bdbc4-7c84-4e31-f40d-e4e88f1c181a"
      },
      "source": [
        "for i, cv in zip(x, coherence_values):\n",
        "    print(\"Num Topics =\", i, \" has Coherence Value of\", round(cv, 4))"
      ],
      "execution_count": null,
      "outputs": [
        {
          "output_type": "stream",
          "name": "stdout",
          "text": [
            "Num Topics = 2  has Coherence Value of 0.378\n",
            "Num Topics = 4  has Coherence Value of 0.4368\n",
            "Num Topics = 6  has Coherence Value of 0.4396\n",
            "Num Topics = 8  has Coherence Value of 0.4686\n",
            "Num Topics = 10  has Coherence Value of 0.4441\n",
            "Num Topics = 12  has Coherence Value of 0.4644\n",
            "Num Topics = 14  has Coherence Value of 0.4588\n",
            "Num Topics = 16  has Coherence Value of 0.4594\n",
            "Num Topics = 18  has Coherence Value of 0.4493\n",
            "Num Topics = 20  has Coherence Value of 0.4559\n"
          ]
        }
      ]
    },
    {
      "cell_type": "markdown",
      "metadata": {
        "id": "wCpzs3Hi_pRa"
      },
      "source": [
        "**Building the LDAMallet model with the optimal number of topic**"
      ]
    },
    {
      "cell_type": "code",
      "metadata": {
        "colab": {
          "base_uri": "https://localhost:8080/"
        },
        "id": "ZQMCcZlkcra0",
        "outputId": "4ab4bc72-1930-4bd2-ded6-04d53432d375"
      },
      "source": [
        "import pprint\n",
        "ldamallet1 = gensim.models.wrappers.LdaMallet(mallet_path, corpus=corpus, num_topics=12, id2word=dictionary)\n",
        "pprint.pprint(ldamallet1.show_topics(formatted=False))"
      ],
      "execution_count": null,
      "outputs": [
        {
          "output_type": "stream",
          "name": "stdout",
          "text": [
            "[(2,\n",
            "  [('wing', 0.08864647320482949),\n",
            "   ('edg', 0.03717432747299301),\n",
            "   ('superson', 0.03675068841347172),\n",
            "   ('lead', 0.033043846642660454),\n",
            "   ('flow', 0.03251429781825884),\n",
            "   ('lift', 0.028807456047447576),\n",
            "   ('speed', 0.027218809574242744),\n",
            "   ('ratio', 0.021393772505825037),\n",
            "   ('airfoil', 0.01885193814869731),\n",
            "   ('subson', 0.017475111205253125)]),\n",
            " (9,\n",
            "  [('theori', 0.09961642599277978),\n",
            "   ('result', 0.057310469314079425),\n",
            "   ('experiment', 0.053023465703971116),\n",
            "   ('data', 0.03203971119133574),\n",
            "   ('show', 0.03125),\n",
            "   ('predict', 0.031137184115523464),\n",
            "   ('theoret', 0.02910649819494585),\n",
            "   ('compar', 0.026398916967509026),\n",
            "   ('agreement', 0.02493231046931408),\n",
            "   ('experi', 0.02414259927797834)]),\n",
            " (1,\n",
            "  [('number', 0.11668514412416851),\n",
            "   ('pressur', 0.11271249076127125),\n",
            "   ('mach', 0.07594235033259424),\n",
            "   ('measur', 0.035846267553584624),\n",
            "   ('investig', 0.030210643015521066),\n",
            "   ('tunnel', 0.028824833702882482),\n",
            "   ('test', 0.027808573540280858),\n",
            "   ('nozzl', 0.02318920916481892),\n",
            "   ('stream', 0.022080561714708055),\n",
            "   ('free', 0.020694752402069475)]),\n",
            " (5,\n",
            "  [('method', 0.09736842105263158),\n",
            "   ('distribut', 0.05405701754385965),\n",
            "   ('calcul', 0.05),\n",
            "   ('give', 0.04978070175438597),\n",
            "   ('deriv', 0.035964912280701755),\n",
            "   ('surfac', 0.03125),\n",
            "   ('determin', 0.029714912280701753),\n",
            "   ('veloc', 0.02850877192982456),\n",
            "   ('approxim', 0.026425438596491227),\n",
            "   ('applic', 0.02324561403508772)]),\n",
            " (6,\n",
            "  [('flow', 0.18141592920353983),\n",
            "   ('shock', 0.07676476641284215),\n",
            "   ('wave', 0.049907388351512656),\n",
            "   ('field', 0.03220827330726487),\n",
            "   ('fluid', 0.02685737806132949),\n",
            "   ('hyperson', 0.023255813953488372),\n",
            "   ('dimension', 0.022844206626877958),\n",
            "   ('viscous', 0.02016875900391027),\n",
            "   ('region', 0.018213624202510804),\n",
            "   ('interact', 0.016670096727721753)]),\n",
            " (8,\n",
            "  [('present', 0.06601408618837293),\n",
            "   ('result', 0.06088098364569655),\n",
            "   ('discuss', 0.03915482869762445),\n",
            "   ('relat', 0.03605109227647129),\n",
            "   ('general', 0.031872985555688196),\n",
            "   ('obtain', 0.029843619434164977),\n",
            "   ('paper', 0.029485496000954996),\n",
            "   ('form', 0.022561776292228723),\n",
            "   ('consid', 0.019816163304285542),\n",
            "   ('describ', 0.018503044049182286)]),\n",
            " (4,\n",
            "  [('boundari', 0.10775785549440796),\n",
            "   ('layer', 0.10305343511450382),\n",
            "   ('transfer', 0.0434936978519439),\n",
            "   ('laminar', 0.037724125687910524),\n",
            "   ('wall', 0.033463518551393574),\n",
            "   ('turbul', 0.03257589206461921),\n",
            "   ('heat', 0.031599502929167404),\n",
            "   ('plate', 0.02662879460323096),\n",
            "   ('transit', 0.024498491034972484),\n",
            "   ('surfac', 0.02432096573761761)]),\n",
            " (0,\n",
            "  [('solut', 0.08533520956880089),\n",
            "   ('equat', 0.07799778872248467),\n",
            "   ('problem', 0.0586993667705297),\n",
            "   ('case', 0.03688812946024726),\n",
            "   ('function', 0.028847120313599355),\n",
            "   ('numer', 0.02673635541260428),\n",
            "   ('approxim', 0.024424565282943008),\n",
            "   ('condit', 0.023017388682279625),\n",
            "   ('integr', 0.02271585083928033),\n",
            "   ('give', 0.018192783194290883)]),\n",
            " (10,\n",
            "  [('load', 0.04190736267198824),\n",
            "   ('cylind', 0.03865140216363827),\n",
            "   ('stress', 0.03665581346497217),\n",
            "   ('buckl', 0.0363407205125512),\n",
            "   ('shell', 0.03087910933725449),\n",
            "   ('compress', 0.022266568637748136),\n",
            "   ('panel', 0.021426320764625563),\n",
            "   ('axial', 0.021216258796344922),\n",
            "   ('structur', 0.020481041907362673),\n",
            "   ('cylindr', 0.017540174351433672)]),\n",
            " (7,\n",
            "  [('bodi', 0.0901224145208949),\n",
            "   ('angl', 0.04991557619248628),\n",
            "   ('drag', 0.03281975517095821),\n",
            "   ('shape', 0.031131279020683834),\n",
            "   ('blunt', 0.029548332629801603),\n",
            "   ('nose', 0.026276910088644998),\n",
            "   ('attack', 0.024377374419586324),\n",
            "   ('valu', 0.020261713803292527),\n",
            "   ('ratio', 0.020261713803292527),\n",
            "   ('coeffici', 0.019628535246939638)])]\n"
          ]
        }
      ]
    },
    {
      "cell_type": "markdown",
      "metadata": {
        "id": "ppTAOWNW_Eqs"
      },
      "source": [
        "**Listing out the topics identified by the optimal model(model with high coherence value)**"
      ]
    },
    {
      "cell_type": "code",
      "metadata": {
        "colab": {
          "base_uri": "https://localhost:8080/"
        },
        "id": "Bhn2sSRvbGBs",
        "outputId": "fbae115e-7d8d-48c6-8e42-58d02149c79d"
      },
      "source": [
        "import pprint\n",
        "optimal_model = model_list[3]\n",
        "model_topics = optimal_model.show_topics(formatted=False)\n",
        "pprint.pprint(optimal_model.print_topics(num_words=7))"
      ],
      "execution_count": null,
      "outputs": [
        {
          "output_type": "stream",
          "name": "stdout",
          "text": [
            "[(0,\n",
            "  '0.123*\"flow\" + 0.060*\"bodi\" + 0.053*\"shock\" + 0.034*\"wave\" + 0.028*\"theori\" '\n",
            "  '+ 0.025*\"hyperson\" + 0.020*\"blunt\"'),\n",
            " (1,\n",
            "  '0.023*\"high\" + 0.018*\"speed\" + 0.016*\"discuss\" + 0.014*\"design\" + '\n",
            "  '0.014*\"possibl\" + 0.012*\"flight\" + 0.011*\"equilibrium\"'),\n",
            " (2,\n",
            "  '0.088*\"number\" + 0.079*\"pressur\" + 0.054*\"mach\" + 0.032*\"effect\" + '\n",
            "  '0.031*\"test\" + 0.028*\"measur\" + 0.025*\"reynold\"'),\n",
            " (3,\n",
            "  '0.058*\"method\" + 0.055*\"solut\" + 0.051*\"equat\" + 0.031*\"problem\" + '\n",
            "  '0.024*\"approxim\" + 0.023*\"give\" + 0.022*\"function\"'),\n",
            " (4,\n",
            "  '0.036*\"angl\" + 0.029*\"valu\" + 0.024*\"drag\" + 0.022*\"ratio\" + '\n",
            "  '0.020*\"determin\" + 0.018*\"result\" + 0.018*\"attack\"'),\n",
            " (5,\n",
            "  '0.078*\"boundari\" + 0.074*\"layer\" + 0.054*\"heat\" + 0.040*\"temperatur\" + '\n",
            "  '0.031*\"transfer\" + 0.027*\"laminar\" + 0.025*\"surfac\"'),\n",
            " (6,\n",
            "  '0.034*\"cylind\" + 0.031*\"load\" + 0.026*\"stress\" + 0.026*\"buckl\" + '\n",
            "  '0.023*\"result\" + 0.022*\"theori\" + 0.022*\"shell\"'),\n",
            " (7,\n",
            "  '0.060*\"wing\" + 0.026*\"edg\" + 0.024*\"effect\" + 0.021*\"calcul\" + 0.020*\"lift\" '\n",
            "  '+ 0.020*\"lead\" + 0.019*\"speed\"')]\n"
          ]
        }
      ]
    },
    {
      "cell_type": "markdown",
      "metadata": {
        "id": "piOVj5IS_Udn"
      },
      "source": [
        "**Testing the performance of the optimal model on the unknown data**"
      ]
    },
    {
      "cell_type": "code",
      "metadata": {
        "colab": {
          "base_uri": "https://localhost:8080/"
        },
        "id": "wTfqtZUSbNpF",
        "outputId": "73232e67-bc9e-4dbb-a911-9612bc4a6b54"
      },
      "source": [
        "unseendata = 'Aerodynamic interaction between propellers of a distributed-propulsion system in forward flight'\n",
        "corpus = dictionary.doc2bow(preprocess(unseendata))\n",
        "for index, score in sorted(ldamallet1[corpus], key=lambda tup: -1*tup[1]):\n",
        "    print(\"Score: {}\\t Topic: {}\".format(score, ldamallet1.print_topic(index, 2)))"
      ],
      "execution_count": null,
      "outputs": [
        {
          "output_type": "stream",
          "name": "stdout",
          "text": [
            "Score: 0.11208576998050683\t Topic: 0.050*\"effect\" + 0.028*\"speed\"\n",
            "Score: 0.10233918128654972\t Topic: 0.117*\"number\" + 0.113*\"pressur\"\n",
            "Score: 0.09454191033138402\t Topic: 0.090*\"bodi\" + 0.050*\"angl\"\n",
            "Score: 0.09064327485380119\t Topic: 0.181*\"flow\" + 0.077*\"shock\"\n",
            "Score: 0.08869395711500976\t Topic: 0.097*\"method\" + 0.054*\"distribut\"\n",
            "Score: 0.07309941520467837\t Topic: 0.085*\"solut\" + 0.078*\"equat\"\n",
            "Score: 0.07309941520467837\t Topic: 0.089*\"wing\" + 0.037*\"edg\"\n",
            "Score: 0.07309941520467837\t Topic: 0.057*\"temperatur\" + 0.054*\"heat\"\n",
            "Score: 0.07309941520467837\t Topic: 0.108*\"boundari\" + 0.103*\"layer\"\n",
            "Score: 0.07309941520467837\t Topic: 0.066*\"present\" + 0.061*\"result\"\n",
            "Score: 0.07309941520467837\t Topic: 0.100*\"theori\" + 0.057*\"result\"\n",
            "Score: 0.07309941520467837\t Topic: 0.042*\"load\" + 0.039*\"cylind\"\n"
          ]
        }
      ]
    },
    {
      "cell_type": "code",
      "metadata": {
        "colab": {
          "base_uri": "https://localhost:8080/"
        },
        "id": "3N5jHtvFgnn5",
        "outputId": "39a93710-9a0d-4ce7-9d86-99fd3e893328"
      },
      "source": [
        "unseendata1 = 'No One Can Explain Why Planes Stay in the Air'\n",
        "corpus = dictionary.doc2bow(preprocess(unseendata1))\n",
        "for index, score in sorted(ldamallet1[corpus], key=lambda tup: -1*tup[1]):\n",
        "    print(\"Score: {}\\t Topic: {}\".format(score, ldamallet1.print_topic(index, 2)))"
      ],
      "execution_count": null,
      "outputs": [
        {
          "output_type": "stream",
          "name": "stdout",
          "text": [
            "Score: 0.09935897435897435\t Topic: 0.089*\"wing\" + 0.037*\"edg\"\n",
            "Score: 0.09935897435897435\t Topic: 0.100*\"theori\" + 0.057*\"result\"\n",
            "Score: 0.08012820512820512\t Topic: 0.085*\"solut\" + 0.078*\"equat\"\n",
            "Score: 0.08012820512820512\t Topic: 0.117*\"number\" + 0.113*\"pressur\"\n",
            "Score: 0.08012820512820512\t Topic: 0.057*\"temperatur\" + 0.054*\"heat\"\n",
            "Score: 0.08012820512820512\t Topic: 0.108*\"boundari\" + 0.103*\"layer\"\n",
            "Score: 0.08012820512820512\t Topic: 0.097*\"method\" + 0.054*\"distribut\"\n",
            "Score: 0.08012820512820512\t Topic: 0.181*\"flow\" + 0.077*\"shock\"\n",
            "Score: 0.08012820512820512\t Topic: 0.090*\"bodi\" + 0.050*\"angl\"\n",
            "Score: 0.08012820512820512\t Topic: 0.066*\"present\" + 0.061*\"result\"\n",
            "Score: 0.08012820512820512\t Topic: 0.042*\"load\" + 0.039*\"cylind\"\n",
            "Score: 0.08012820512820512\t Topic: 0.050*\"effect\" + 0.028*\"speed\"\n"
          ]
        }
      ]
    },
    {
      "cell_type": "code",
      "metadata": {
        "colab": {
          "base_uri": "https://localhost:8080/"
        },
        "id": "N-VxmYA_gS35",
        "outputId": "5906976e-a0db-40a3-ab3f-b43256648b23"
      },
      "source": [
        "testdata_unseen = \"Turbulence Model Could Help Design Aircraft Capable of Handling Extreme Scenarios\"\n",
        "corpus = dictionary.doc2bow(preprocess(testdata_unseen))\n",
        "for index, score in sorted(ldamallet1[corpus], key=lambda tup: -1*tup[1]):\n",
        "    print(\"Score: {}\\t Topic: {}\".format(score, ldamallet1.print_topic(index, 2)))"
      ],
      "execution_count": null,
      "outputs": [
        {
          "output_type": "stream",
          "name": "stdout",
          "text": [
            "Score: 0.12378167641325535\t Topic: 0.050*\"effect\" + 0.028*\"speed\"\n",
            "Score: 0.10233918128654969\t Topic: 0.089*\"wing\" + 0.037*\"edg\"\n",
            "Score: 0.09064327485380116\t Topic: 0.108*\"boundari\" + 0.103*\"layer\"\n",
            "Score: 0.09064327485380116\t Topic: 0.090*\"bodi\" + 0.050*\"angl\"\n",
            "Score: 0.07894736842105263\t Topic: 0.042*\"load\" + 0.039*\"cylind\"\n",
            "Score: 0.07504873294346978\t Topic: 0.117*\"number\" + 0.113*\"pressur\"\n",
            "Score: 0.07309941520467836\t Topic: 0.085*\"solut\" + 0.078*\"equat\"\n",
            "Score: 0.07309941520467836\t Topic: 0.057*\"temperatur\" + 0.054*\"heat\"\n",
            "Score: 0.07309941520467836\t Topic: 0.097*\"method\" + 0.054*\"distribut\"\n",
            "Score: 0.07309941520467836\t Topic: 0.181*\"flow\" + 0.077*\"shock\"\n",
            "Score: 0.07309941520467836\t Topic: 0.066*\"present\" + 0.061*\"result\"\n",
            "Score: 0.07309941520467836\t Topic: 0.100*\"theori\" + 0.057*\"result\"\n"
          ]
        }
      ]
    },
    {
      "cell_type": "code",
      "metadata": {
        "colab": {
          "base_uri": "https://localhost:8080/"
        },
        "id": "cLJNDL1Pg36M",
        "outputId": "642b37b8-d3f1-4d33-94f1-5f7fd279de3a"
      },
      "source": [
        "testdata_unseen1 = \"Zero emissions hydrogen plane test was part powered by fossil fuels\"\n",
        "corpus = dictionary.doc2bow(preprocess(testdata_unseen1))\n",
        "for index, score in sorted(ldamallet1[corpus], key=lambda tup: -1*tup[1]):\n",
        "    print(\"Score: {}\\t Topic: {}\".format(score, ldamallet1.print_topic(index, 2)))"
      ],
      "execution_count": null,
      "outputs": [
        {
          "output_type": "stream",
          "name": "stdout",
          "text": [
            "Score: 0.1279761904761905\t Topic: 0.057*\"temperatur\" + 0.054*\"heat\"\n",
            "Score: 0.09623015873015874\t Topic: 0.085*\"solut\" + 0.078*\"equat\"\n",
            "Score: 0.08829365079365081\t Topic: 0.117*\"number\" + 0.113*\"pressur\"\n",
            "Score: 0.08234126984126987\t Topic: 0.089*\"wing\" + 0.037*\"edg\"\n",
            "Score: 0.08234126984126987\t Topic: 0.050*\"effect\" + 0.028*\"speed\"\n",
            "Score: 0.07638888888888891\t Topic: 0.042*\"load\" + 0.039*\"cylind\"\n",
            "Score: 0.07440476190476193\t Topic: 0.108*\"boundari\" + 0.103*\"layer\"\n",
            "Score: 0.07440476190476193\t Topic: 0.097*\"method\" + 0.054*\"distribut\"\n",
            "Score: 0.07440476190476193\t Topic: 0.181*\"flow\" + 0.077*\"shock\"\n",
            "Score: 0.07440476190476193\t Topic: 0.090*\"bodi\" + 0.050*\"angl\"\n",
            "Score: 0.07440476190476193\t Topic: 0.066*\"present\" + 0.061*\"result\"\n",
            "Score: 0.07440476190476193\t Topic: 0.100*\"theori\" + 0.057*\"result\"\n"
          ]
        }
      ]
    },
    {
      "cell_type": "code",
      "metadata": {
        "colab": {
          "base_uri": "https://localhost:8080/"
        },
        "id": "BOdCehgYVsQ9",
        "outputId": "e60aa3ad-eebc-4321-9c13-035c3fdc6e63"
      },
      "source": [
        "testdata_unseen2 = \"Dynamic stability of wings for drone aircraft subjected to parametric excitation\"\n",
        "corpus = dictionary.doc2bow(preprocess(testdata_unseen2))\n",
        "for index, score in sorted(ldamallet1[corpus], key=lambda tup: -1*tup[1]):\n",
        "    print(\"Score: {}\\t Topic: {}\".format(score, ldamallet1.print_topic(index, 2)))"
      ],
      "execution_count": null,
      "outputs": [
        {
          "output_type": "stream",
          "name": "stdout",
          "text": [
            "Score: 0.1259920634920635\t Topic: 0.050*\"effect\" + 0.028*\"speed\"\n",
            "Score: 0.09424603174603174\t Topic: 0.042*\"load\" + 0.039*\"cylind\"\n",
            "Score: 0.09226190476190478\t Topic: 0.089*\"wing\" + 0.037*\"edg\"\n",
            "Score: 0.09226190476190478\t Topic: 0.057*\"temperatur\" + 0.054*\"heat\"\n",
            "Score: 0.07440476190476193\t Topic: 0.085*\"solut\" + 0.078*\"equat\"\n",
            "Score: 0.07440476190476193\t Topic: 0.117*\"number\" + 0.113*\"pressur\"\n",
            "Score: 0.07440476190476193\t Topic: 0.108*\"boundari\" + 0.103*\"layer\"\n",
            "Score: 0.07440476190476193\t Topic: 0.097*\"method\" + 0.054*\"distribut\"\n",
            "Score: 0.07440476190476193\t Topic: 0.181*\"flow\" + 0.077*\"shock\"\n",
            "Score: 0.07440476190476193\t Topic: 0.090*\"bodi\" + 0.050*\"angl\"\n",
            "Score: 0.07440476190476193\t Topic: 0.066*\"present\" + 0.061*\"result\"\n",
            "Score: 0.07440476190476193\t Topic: 0.100*\"theori\" + 0.057*\"result\"\n"
          ]
        }
      ]
    },
    {
      "cell_type": "code",
      "metadata": {
        "colab": {
          "base_uri": "https://localhost:8080/"
        },
        "id": "1fcUQbP3WFqY",
        "outputId": "b65aef90-070c-4598-9df4-0bbc8e20f5e3"
      },
      "source": [
        "testdata_unseen3 = \"the kink in the surge line of a multi-stage axial compressor\"\n",
        "corpus = dictionary.doc2bow(preprocess(testdata_unseen3))\n",
        "for index, score in sorted(ldamallet1[corpus], key=lambda tup: -1*tup[1]):\n",
        "    print(\"Score: {}\\t Topic: {}\".format(score, ldamallet1.print_topic(index, 2)))"
      ],
      "execution_count": null,
      "outputs": [
        {
          "output_type": "stream",
          "name": "stdout",
          "text": [
            "Score: 0.1315789473684211\t Topic: 0.089*\"wing\" + 0.037*\"edg\"\n",
            "Score: 0.10623781676413256\t Topic: 0.042*\"load\" + 0.039*\"cylind\"\n",
            "Score: 0.09064327485380118\t Topic: 0.097*\"method\" + 0.054*\"distribut\"\n",
            "Score: 0.08284600389863549\t Topic: 0.100*\"theori\" + 0.057*\"result\"\n",
            "Score: 0.0750487329434698\t Topic: 0.108*\"boundari\" + 0.103*\"layer\"\n",
            "Score: 0.0750487329434698\t Topic: 0.066*\"present\" + 0.061*\"result\"\n",
            "Score: 0.07309941520467837\t Topic: 0.085*\"solut\" + 0.078*\"equat\"\n",
            "Score: 0.07309941520467837\t Topic: 0.117*\"number\" + 0.113*\"pressur\"\n",
            "Score: 0.07309941520467837\t Topic: 0.057*\"temperatur\" + 0.054*\"heat\"\n",
            "Score: 0.07309941520467837\t Topic: 0.181*\"flow\" + 0.077*\"shock\"\n",
            "Score: 0.07309941520467837\t Topic: 0.090*\"bodi\" + 0.050*\"angl\"\n",
            "Score: 0.07309941520467837\t Topic: 0.050*\"effect\" + 0.028*\"speed\"\n"
          ]
        }
      ]
    },
    {
      "cell_type": "code",
      "metadata": {
        "colab": {
          "base_uri": "https://localhost:8080/"
        },
        "id": "CJgIBDBaWlyy",
        "outputId": "a1b1bfee-8e67-49f4-f1a6-35f2ea2efab8"
      },
      "source": [
        "testdata_unseen4 = \"have any aerodynamic derivatives been measured at hypersonic mach numbers and comparison been made with theoretical work\"\n",
        "corpus = dictionary.doc2bow(preprocess(testdata_unseen4))\n",
        "for index, score in sorted(ldamallet1[corpus], key=lambda tup: -1*tup[1]):\n",
        "    print(\"Score: {}\\t Topic: {}\".format(score, ldamallet1.print_topic(index, 2)))"
      ],
      "execution_count": null,
      "outputs": [
        {
          "output_type": "stream",
          "name": "stdout",
          "text": [
            "Score: 0.11958568738229754\t Topic: 0.117*\"number\" + 0.113*\"pressur\"\n",
            "Score: 0.11770244821092278\t Topic: 0.100*\"theori\" + 0.057*\"result\"\n",
            "Score: 0.09133709981167608\t Topic: 0.097*\"method\" + 0.054*\"distribut\"\n",
            "Score: 0.08380414312617702\t Topic: 0.181*\"flow\" + 0.077*\"shock\"\n",
            "Score: 0.08192090395480227\t Topic: 0.050*\"effect\" + 0.028*\"speed\"\n",
            "Score: 0.0800376647834275\t Topic: 0.090*\"bodi\" + 0.050*\"angl\"\n",
            "Score: 0.07250470809792844\t Topic: 0.089*\"wing\" + 0.037*\"edg\"\n",
            "Score: 0.07062146892655367\t Topic: 0.085*\"solut\" + 0.078*\"equat\"\n",
            "Score: 0.07062146892655367\t Topic: 0.057*\"temperatur\" + 0.054*\"heat\"\n",
            "Score: 0.07062146892655367\t Topic: 0.108*\"boundari\" + 0.103*\"layer\"\n",
            "Score: 0.07062146892655367\t Topic: 0.066*\"present\" + 0.061*\"result\"\n",
            "Score: 0.07062146892655367\t Topic: 0.042*\"load\" + 0.039*\"cylind\"\n"
          ]
        }
      ]
    },
    {
      "cell_type": "code",
      "metadata": {
        "colab": {
          "base_uri": "https://localhost:8080/"
        },
        "id": "K32JANJBW0mi",
        "outputId": "051e972d-1cf3-4f47-a598-95043bf29f5b"
      },
      "source": [
        "testdata_unseen5 = \"information on the buckling of sandwich sphere available\"\n",
        "corpus = dictionary.doc2bow(preprocess(testdata_unseen5))\n",
        "for index, score in sorted(ldamallet1[corpus], key=lambda tup: -1*tup[1]):\n",
        "    print(\"Score: {}\\t Topic: {}\".format(score, ldamallet1.print_topic(index, 2)))"
      ],
      "execution_count": null,
      "outputs": [
        {
          "output_type": "stream",
          "name": "stdout",
          "text": [
            "Score: 0.11212121212121211\t Topic: 0.042*\"load\" + 0.039*\"cylind\"\n",
            "Score: 0.09393939393939393\t Topic: 0.181*\"flow\" + 0.077*\"shock\"\n",
            "Score: 0.09393939393939393\t Topic: 0.100*\"theori\" + 0.057*\"result\"\n",
            "Score: 0.08585858585858586\t Topic: 0.066*\"present\" + 0.061*\"result\"\n",
            "Score: 0.08383838383838384\t Topic: 0.089*\"wing\" + 0.037*\"edg\"\n",
            "Score: 0.07575757575757576\t Topic: 0.085*\"solut\" + 0.078*\"equat\"\n",
            "Score: 0.07575757575757576\t Topic: 0.117*\"number\" + 0.113*\"pressur\"\n",
            "Score: 0.07575757575757576\t Topic: 0.057*\"temperatur\" + 0.054*\"heat\"\n",
            "Score: 0.07575757575757576\t Topic: 0.108*\"boundari\" + 0.103*\"layer\"\n",
            "Score: 0.07575757575757576\t Topic: 0.097*\"method\" + 0.054*\"distribut\"\n",
            "Score: 0.07575757575757576\t Topic: 0.090*\"bodi\" + 0.050*\"angl\"\n",
            "Score: 0.07575757575757576\t Topic: 0.050*\"effect\" + 0.028*\"speed\"\n"
          ]
        }
      ]
    }
  ]
}